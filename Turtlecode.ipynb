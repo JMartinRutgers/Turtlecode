{
 "cells": [
  {
   "cell_type": "code",
   "execution_count": 1,
   "metadata": {},
   "outputs": [
    {
     "name": "stdout",
     "output_type": "stream",
     "text": [
      "Number:  30\n",
      "Number:  30\n",
      "color:  red\n"
     ]
    }
   ],
   "source": [
    "import turtle\n",
    "import time\n",
    "\n",
    "#variables\n",
    "size=int(input(\"Number:  \"))\n",
    "sides=int(input(\"Number:  \"))\n",
    "angle=360/sides\n",
    "\n",
    "clr=input(\"color:  \")\n",
    "\n",
    "    #define function\n",
    "def poligono():\n",
    "        turtle.color(clr)\n",
    "        turtle.begin_fill()\n",
    "        for i in range(sides):\n",
    "            turtle.forward(size)\n",
    "            turtle.left(angle)\n",
    "            turtle.end_fill()\n",
    "            turtle.hideturtle()\n",
    "#call the funtion\n",
    "poligono()\n"
   ]
  },
  {
   "cell_type": "code",
   "execution_count": null,
   "metadata": {},
   "outputs": [],
   "source": []
  }
 ],
 "metadata": {
  "kernelspec": {
   "display_name": "Python 3",
   "language": "python",
   "name": "python3"
  },
  "language_info": {
   "codemirror_mode": {
    "name": "ipython",
    "version": 3
   },
   "file_extension": ".py",
   "mimetype": "text/x-python",
   "name": "python",
   "nbconvert_exporter": "python",
   "pygments_lexer": "ipython3",
   "version": "3.8.5"
  }
 },
 "nbformat": 4,
 "nbformat_minor": 4
}
